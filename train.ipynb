{
 "cells": [
  {
   "cell_type": "code",
   "execution_count": 1,
   "metadata": {},
   "outputs": [
    {
     "name": "stdout",
     "output_type": "stream",
     "text": [
      "Requirement already satisfied: ultralytics in d:\\python311\\lib\\site-packages (8.0.190)\n",
      "Requirement already satisfied: matplotlib>=3.3.0 in d:\\python311\\lib\\site-packages (from ultralytics) (3.8.0)\n",
      "Requirement already satisfied: numpy>=1.22.2 in d:\\python311\\lib\\site-packages (from ultralytics) (1.24.1)\n",
      "Requirement already satisfied: opencv-python>=4.6.0 in d:\\python311\\lib\\site-packages (from ultralytics) (4.6.0.66)\n",
      "Requirement already satisfied: pillow>=7.1.2 in d:\\python311\\lib\\site-packages (from ultralytics) (9.4.0)\n",
      "Requirement already satisfied: pyyaml>=5.3.1 in d:\\python311\\lib\\site-packages (from ultralytics) (6.0.1)\n",
      "Requirement already satisfied: requests>=2.23.0 in d:\\python311\\lib\\site-packages (from ultralytics) (2.31.0)\n",
      "Requirement already satisfied: scipy>=1.4.1 in d:\\python311\\lib\\site-packages (from ultralytics) (1.10.0)\n",
      "Requirement already satisfied: torch>=1.8.0 in d:\\python311\\lib\\site-packages (from ultralytics) (2.0.1)\n",
      "Requirement already satisfied: torchvision>=0.9.0 in d:\\python311\\lib\\site-packages (from ultralytics) (0.15.2)\n",
      "Requirement already satisfied: tqdm>=4.64.0 in d:\\python311\\lib\\site-packages (from ultralytics) (4.66.1)\n",
      "Requirement already satisfied: pandas>=1.1.4 in d:\\python311\\lib\\site-packages (from ultralytics) (1.5.2)\n",
      "Requirement already satisfied: seaborn>=0.11.0 in d:\\python311\\lib\\site-packages (from ultralytics) (0.12.2)\n",
      "Requirement already satisfied: psutil in c:\\users\\lagui\\appdata\\roaming\\python\\python311\\site-packages (from ultralytics) (5.9.5)\n",
      "Requirement already satisfied: py-cpuinfo in d:\\python311\\lib\\site-packages (from ultralytics) (9.0.0)\n",
      "Requirement already satisfied: thop>=0.1.1 in d:\\python311\\lib\\site-packages (from ultralytics) (0.1.1.post2209072238)\n",
      "Requirement already satisfied: contourpy>=1.0.1 in d:\\python311\\lib\\site-packages (from matplotlib>=3.3.0->ultralytics) (1.0.7)\n",
      "Requirement already satisfied: cycler>=0.10 in d:\\python311\\lib\\site-packages (from matplotlib>=3.3.0->ultralytics) (0.10.0)\n",
      "Requirement already satisfied: fonttools>=4.22.0 in d:\\python311\\lib\\site-packages (from matplotlib>=3.3.0->ultralytics) (4.38.0)\n",
      "Requirement already satisfied: kiwisolver>=1.0.1 in d:\\python311\\lib\\site-packages (from matplotlib>=3.3.0->ultralytics) (1.4.4)\n",
      "Requirement already satisfied: packaging>=20.0 in d:\\python311\\lib\\site-packages (from matplotlib>=3.3.0->ultralytics) (23.0)\n",
      "Requirement already satisfied: pyparsing>=2.3.1 in d:\\python311\\lib\\site-packages (from matplotlib>=3.3.0->ultralytics) (2.4.7)\n",
      "Requirement already satisfied: python-dateutil>=2.7 in d:\\python311\\lib\\site-packages (from matplotlib>=3.3.0->ultralytics) (2.8.2)\n",
      "Requirement already satisfied: pytz>=2020.1 in d:\\python311\\lib\\site-packages (from pandas>=1.1.4->ultralytics) (2022.7)\n",
      "Requirement already satisfied: charset-normalizer<4,>=2 in d:\\python311\\lib\\site-packages (from requests>=2.23.0->ultralytics) (3.2.0)\n",
      "Requirement already satisfied: idna<4,>=2.5 in d:\\python311\\lib\\site-packages (from requests>=2.23.0->ultralytics) (2.10)\n",
      "Requirement already satisfied: urllib3<3,>=1.21.1 in d:\\python311\\lib\\site-packages (from requests>=2.23.0->ultralytics) (1.26.16)\n",
      "Requirement already satisfied: certifi>=2017.4.17 in d:\\python311\\lib\\site-packages (from requests>=2.23.0->ultralytics) (2022.12.7)\n",
      "Requirement already satisfied: filelock in d:\\python311\\lib\\site-packages (from torch>=1.8.0->ultralytics) (3.12.4)\n",
      "Requirement already satisfied: typing-extensions in d:\\python311\\lib\\site-packages (from torch>=1.8.0->ultralytics) (4.5.0)\n",
      "Requirement already satisfied: sympy in d:\\python311\\lib\\site-packages (from torch>=1.8.0->ultralytics) (1.11.1)\n",
      "Requirement already satisfied: networkx in d:\\python311\\lib\\site-packages (from torch>=1.8.0->ultralytics) (3.1)\n",
      "Requirement already satisfied: jinja2 in d:\\python311\\lib\\site-packages (from torch>=1.8.0->ultralytics) (3.1.2)\n",
      "Requirement already satisfied: colorama in c:\\users\\lagui\\appdata\\roaming\\python\\python311\\site-packages (from tqdm>=4.64.0->ultralytics) (0.4.6)\n",
      "Requirement already satisfied: six in d:\\python311\\lib\\site-packages (from cycler>=0.10->matplotlib>=3.3.0->ultralytics) (1.16.0)\n",
      "Requirement already satisfied: MarkupSafe>=2.0 in d:\\python311\\lib\\site-packages (from jinja2->torch>=1.8.0->ultralytics) (2.1.3)\n",
      "Requirement already satisfied: mpmath>=0.19 in d:\\python311\\lib\\site-packages (from sympy->torch>=1.8.0->ultralytics) (1.2.1)\n",
      "Note: you may need to restart the kernel to use updated packages.\n"
     ]
    },
    {
     "name": "stderr",
     "output_type": "stream",
     "text": [
      "DEPRECATION: Loading egg at d:\\python311\\lib\\site-packages\\vboxapi-1.0-py3.11.egg is deprecated. pip 23.3 will enforce this behaviour change. A possible replacement is to use pip for package installation..\n"
     ]
    }
   ],
   "source": [
    "%pip install ultralytics"
   ]
  },
  {
   "cell_type": "code",
   "execution_count": 1,
   "metadata": {},
   "outputs": [
    {
     "name": "stderr",
     "output_type": "stream",
     "text": [
      "Ultralytics YOLOv8.0.198  Python-3.11.1 torch-2.0.1+cpu CPU (Intel Core(TM) i5-8250U 1.60GHz)\n",
      "Setup complete  (8 CPUs, 7.9 GB RAM, 261.1/930.9 GB disk)\n"
     ]
    }
   ],
   "source": [
    "from IPython import display\n",
    "display.clear_output()\n",
    "\n",
    "import ultralytics\n",
    "ultralytics.checks()"
   ]
  },
  {
   "cell_type": "code",
   "execution_count": 1,
   "metadata": {},
   "outputs": [
    {
     "name": "stdout",
     "output_type": "stream",
     "text": [
      "d:\\Project\n"
     ]
    }
   ],
   "source": [
    "import os\n",
    "HOME = os.getcwd()\n",
    "print(HOME)"
   ]
  },
  {
   "cell_type": "code",
   "execution_count": 1,
   "metadata": {},
   "outputs": [
    {
     "name": "stdout",
     "output_type": "stream",
     "text": [
      "d:\\Human_Tracker_An_Object_Detection_System_for_Counting_People_Entering_and_Exiting_Room\\{HOME}\\datasets\n"
     ]
    }
   ],
   "source": [
    "!mkdir {HOME}\\\\datasets\n",
    "%cd {HOME}/datasets"
   ]
  },
  {
   "cell_type": "markdown",
   "metadata": {},
   "source": [
    "Download datasets from Roboflow"
   ]
  },
  {
   "cell_type": "code",
   "execution_count": 1,
   "metadata": {},
   "outputs": [
    {
     "name": "stdout",
     "output_type": "stream",
     "text": [
      "D:\\Project\\datasets3\n",
      "loading Roboflow workspace...\n",
      "loading Roboflow project...\n",
      "Dependency ultralytics==8.0.134 is required but found version=8.0.198, to fix: `pip install ultralytics==8.0.134`\n"
     ]
    },
    {
     "name": "stderr",
     "output_type": "stream",
     "text": [
      "Downloading Dataset Version Zip in Human-Dataset-v2-6 to yolov8:: 100%|██████████| 404291/404291 [01:31<00:00, 4420.50it/s]"
     ]
    },
    {
     "name": "stdout",
     "output_type": "stream",
     "text": [
      "\n"
     ]
    },
    {
     "name": "stderr",
     "output_type": "stream",
     "text": [
      "\n",
      "Extracting Dataset Version Zip to Human-Dataset-v2-6 in yolov8:: 100%|██████████| 27316/27316 [00:54<00:00, 501.50it/s]\n"
     ]
    }
   ],
   "source": [
    "%cd D:\\Human_Tracker_An_Object_Detection_System_for_Counting_People_Entering_and_Exiting_Room\\datasets\n",
    "from roboflow import Roboflow\n",
    "rf = Roboflow(api_key=\"voUza7KrF97FSwVk1h3W\")\n",
    "project = rf.workspace(\"human-v2\").project(\"human-dataset-v2\")\n",
    "dataset = project.version(6).download(\"yolov8\")"
   ]
  },
  {
   "cell_type": "markdown",
   "metadata": {},
   "source": [
    "TRAINING MODEL:"
   ]
  },
  {
   "cell_type": "code",
   "execution_count": null,
   "metadata": {},
   "outputs": [],
   "source": [
    "%cd D:\\Human_Tracker_An_Object_Detection_System_for_Counting_People_Entering_and_Exiting_Room\\datasets\n",
    "from ultralytics import YOLO\n",
    "\n",
    "model = YOLO()\n",
    "\n",
    "model.train(data=\"D:\\Human_Tracker_An_Object_Detection_System_for_Counting_People_Entering_and_Exiting_Room\\datasets\\data.yaml\", epochs=25)\n"
   ]
  },
  {
   "cell_type": "markdown",
   "metadata": {},
   "source": [
    "CAUTION: If the training process is paused, utilize the resume() function."
   ]
  },
  {
   "cell_type": "code",
   "execution_count": 2,
   "metadata": {},
   "outputs": [
    {
     "name": "stdout",
     "output_type": "stream",
     "text": [
      "D:\\Project\\datasets4\n"
     ]
    },
    {
     "name": "stderr",
     "output_type": "stream",
     "text": [
      "New https://pypi.org/project/ultralytics/8.0.203 available  Update with 'pip install -U ultralytics'\n",
      "Ultralytics YOLOv8.0.202  Python-3.11.1 torch-2.0.1+cpu CPU (Intel Core(TM) i5-8250U 1.60GHz)\n",
      "\u001b[34m\u001b[1mengine\\trainer: \u001b[0mtask=detect, mode=train, model=D:\\Project\\datasets4\\runs\\detect\\train2\\weights\\last.pt, data=D:\\Project\\datasets4\\data.yaml, epochs=25, patience=50, batch=16, imgsz=640, save=True, save_period=-1, cache=False, device=None, workers=0, project=None, name=train2, exist_ok=False, pretrained=True, optimizer=auto, verbose=True, seed=0, deterministic=True, single_cls=False, rect=False, cos_lr=False, close_mosaic=10, resume=False, amp=True, fraction=1.0, profile=False, freeze=None, overlap_mask=True, mask_ratio=4, dropout=0.0, val=True, split=val, save_json=False, save_hybrid=False, conf=None, iou=0.7, max_det=300, half=False, dnn=False, plots=True, source=None, show=False, save_txt=False, save_conf=False, save_crop=False, show_labels=True, show_conf=True, vid_stride=1, stream_buffer=False, line_width=None, visualize=False, augment=False, agnostic_nms=False, classes=None, retina_masks=False, boxes=True, format=torchscript, keras=False, optimize=False, int8=False, dynamic=False, simplify=False, opset=None, workspace=4, nms=False, lr0=0.01, lrf=0.01, momentum=0.937, weight_decay=0.0005, warmup_epochs=3.0, warmup_momentum=0.8, warmup_bias_lr=0.0, box=7.5, cls=0.5, dfl=1.5, pose=12.0, kobj=1.0, label_smoothing=0.0, nbs=64, hsv_h=0.015, hsv_s=0.7, hsv_v=0.4, degrees=0.0, translate=0.1, scale=0.5, shear=0.0, perspective=0.0, flipud=0.0, fliplr=0.5, mosaic=1.0, mixup=0.0, copy_paste=0.0, cfg=None, tracker=botsort.yaml, save_dir=runs\\detect\\train2\n",
      "\u001b[34m\u001b[1mTensorBoard: \u001b[0mStart with 'tensorboard --logdir runs\\detect\\train2', view at http://localhost:6006/\n",
      "\n",
      "                   from  n    params  module                                       arguments                     \n",
      "  0                  -1  1       464  ultralytics.nn.modules.conv.Conv             [3, 16, 3, 2]                 \n",
      "  1                  -1  1      4672  ultralytics.nn.modules.conv.Conv             [16, 32, 3, 2]                \n",
      "  2                  -1  1      7360  ultralytics.nn.modules.block.C2f             [32, 32, 1, True]             \n",
      "  3                  -1  1     18560  ultralytics.nn.modules.conv.Conv             [32, 64, 3, 2]                \n",
      "  4                  -1  2     49664  ultralytics.nn.modules.block.C2f             [64, 64, 2, True]             \n",
      "  5                  -1  1     73984  ultralytics.nn.modules.conv.Conv             [64, 128, 3, 2]               \n",
      "  6                  -1  2    197632  ultralytics.nn.modules.block.C2f             [128, 128, 2, True]           \n",
      "  7                  -1  1    295424  ultralytics.nn.modules.conv.Conv             [128, 256, 3, 2]              \n",
      "  8                  -1  1    460288  ultralytics.nn.modules.block.C2f             [256, 256, 1, True]           \n",
      "  9                  -1  1    164608  ultralytics.nn.modules.block.SPPF            [256, 256, 5]                 \n",
      " 10                  -1  1         0  torch.nn.modules.upsampling.Upsample         [None, 2, 'nearest']          \n",
      " 11             [-1, 6]  1         0  ultralytics.nn.modules.conv.Concat           [1]                           \n",
      " 12                  -1  1    148224  ultralytics.nn.modules.block.C2f             [384, 128, 1]                 \n",
      " 13                  -1  1         0  torch.nn.modules.upsampling.Upsample         [None, 2, 'nearest']          \n",
      " 14             [-1, 4]  1         0  ultralytics.nn.modules.conv.Concat           [1]                           \n",
      " 15                  -1  1     37248  ultralytics.nn.modules.block.C2f             [192, 64, 1]                  \n",
      " 16                  -1  1     36992  ultralytics.nn.modules.conv.Conv             [64, 64, 3, 2]                \n",
      " 17            [-1, 12]  1         0  ultralytics.nn.modules.conv.Concat           [1]                           \n",
      " 18                  -1  1    123648  ultralytics.nn.modules.block.C2f             [192, 128, 1]                 \n",
      " 19                  -1  1    147712  ultralytics.nn.modules.conv.Conv             [128, 128, 3, 2]              \n",
      " 20             [-1, 9]  1         0  ultralytics.nn.modules.conv.Concat           [1]                           \n",
      " 21                  -1  1    493056  ultralytics.nn.modules.block.C2f             [384, 256, 1]                 \n",
      " 22        [15, 18, 21]  1    751507  ultralytics.nn.modules.head.Detect           [1, [64, 128, 256]]           \n",
      "Model summary: 225 layers, 3011043 parameters, 3011027 gradients, 8.2 GFLOPs\n",
      "\n",
      "Transferred 355/355 items from pretrained weights\n",
      "Freezing layer 'model.22.dfl.conv.weight'\n",
      "\u001b[34m\u001b[1mtrain: \u001b[0mScanning D:\\Project\\datasets4\\train\\labels.cache... 8128 images, 69 backgrounds, 0 corrupt: 100%|██████████| 8128/8128 [00:00<?, ?it/s]\n",
      "WARNING  Box and segment counts should be equal, but got len(segments) = 14903, len(boxes) = 25520. To resolve this only boxes will be used and all segments will be removed. To avoid this please supply either a detect or segment dataset, not a detect-segment mixed dataset.\n",
      "\u001b[34m\u001b[1mval: \u001b[0mScanning D:\\Project\\datasets4\\valid\\labels.cache... 1071 images, 44 backgrounds, 0 corrupt: 100%|██████████| 1071/1071 [00:00<?, ?it/s]\n",
      "Plotting labels to runs\\detect\\train2\\labels.jpg... \n",
      "\u001b[34m\u001b[1moptimizer:\u001b[0m 'optimizer=auto' found, ignoring 'lr0=0.01' and 'momentum=0.937' and determining best 'optimizer', 'lr0' and 'momentum' automatically... \n",
      "\u001b[34m\u001b[1moptimizer:\u001b[0m AdamW(lr=0.002, momentum=0.9) with parameter groups 57 weight(decay=0.0), 64 weight(decay=0.0005), 63 bias(decay=0.0)\n",
      "Resuming training from D:\\Project\\datasets4\\runs\\detect\\train2\\weights\\last.pt from epoch 6 to 25 total epochs\n",
      "Image sizes 640 train, 640 val\n",
      "Using 0 dataloader workers\n",
      "Logging results to \u001b[1mruns\\detect\\train2\u001b[0m\n",
      "Starting training for 25 epochs...\n",
      "\n",
      "      Epoch    GPU_mem   box_loss   cls_loss   dfl_loss  Instances       Size\n",
      "       6/25         0G      1.552      1.679      1.552         92        640: 100%|██████████| 508/508 [2:00:20<00:00, 14.21s/it]  \n",
      "                 Class     Images  Instances      Box(P          R      mAP50  mAP50-95): 100%|██████████| 34/34 [06:35<00:00, 11.64s/it]\n",
      "                   all       1071       2293      0.743      0.642      0.724      0.403\n",
      "\n",
      "      Epoch    GPU_mem   box_loss   cls_loss   dfl_loss  Instances       Size\n",
      "       7/25         0G       1.52      1.612       1.53        115        640: 100%|██████████| 508/508 [1:59:16<00:00, 14.09s/it]\n",
      "                 Class     Images  Instances      Box(P          R      mAP50  mAP50-95): 100%|██████████| 34/34 [06:01<00:00, 10.62s/it]\n",
      "                   all       1071       2293      0.742      0.645      0.717      0.414\n",
      "\n",
      "      Epoch    GPU_mem   box_loss   cls_loss   dfl_loss  Instances       Size\n",
      "       8/25         0G      1.483      1.579      1.503         87        640: 100%|██████████| 508/508 [1:57:44<00:00, 13.91s/it]\n",
      "                 Class     Images  Instances      Box(P          R      mAP50  mAP50-95): 100%|██████████| 34/34 [06:24<00:00, 11.32s/it]\n",
      "                   all       1071       2293       0.76      0.645      0.722      0.424\n",
      "\n",
      "      Epoch    GPU_mem   box_loss   cls_loss   dfl_loss  Instances       Size\n",
      "       9/25         0G      1.453      1.512      1.479         80        640: 100%|██████████| 508/508 [1:58:08<00:00, 13.95s/it]\n",
      "                 Class     Images  Instances      Box(P          R      mAP50  mAP50-95): 100%|██████████| 34/34 [06:21<00:00, 11.22s/it]\n",
      "                   all       1071       2293      0.754      0.642      0.731      0.441\n",
      "\n",
      "      Epoch    GPU_mem   box_loss   cls_loss   dfl_loss  Instances       Size\n",
      "      10/25         0G      1.425      1.478      1.458         59        640: 100%|██████████| 508/508 [1:56:09<00:00, 13.72s/it]\n",
      "                 Class     Images  Instances      Box(P          R      mAP50  mAP50-95): 100%|██████████| 34/34 [06:14<00:00, 11.02s/it]\n",
      "                   all       1071       2293      0.764      0.693      0.766      0.465\n",
      "\n",
      "      Epoch    GPU_mem   box_loss   cls_loss   dfl_loss  Instances       Size\n",
      "      11/25         0G      1.416      1.463      1.462         66        640: 100%|██████████| 508/508 [1:58:57<00:00, 14.05s/it]  \n",
      "                 Class     Images  Instances      Box(P          R      mAP50  mAP50-95): 100%|██████████| 34/34 [06:38<00:00, 11.73s/it]\n",
      "                   all       1071       2293      0.782      0.672      0.767      0.472\n",
      "\n",
      "      Epoch    GPU_mem   box_loss   cls_loss   dfl_loss  Instances       Size\n",
      "      12/25         0G      1.414       1.43      1.448         93        640: 100%|██████████| 508/508 [1:58:57<00:00, 14.05s/it]  \n",
      "                 Class     Images  Instances      Box(P          R      mAP50  mAP50-95): 100%|██████████| 34/34 [06:21<00:00, 11.21s/it]\n",
      "                   all       1071       2293       0.79      0.683      0.775      0.489\n",
      "\n",
      "      Epoch    GPU_mem   box_loss   cls_loss   dfl_loss  Instances       Size\n",
      "      13/25         0G      1.397      1.422      1.438         87        640: 100%|██████████| 508/508 [1:57:16<00:00, 13.85s/it]\n",
      "                 Class     Images  Instances      Box(P          R      mAP50  mAP50-95): 100%|██████████| 34/34 [06:43<00:00, 11.87s/it]\n",
      "                   all       1071       2293      0.814      0.669      0.777       0.48\n",
      "\n",
      "      Epoch    GPU_mem   box_loss   cls_loss   dfl_loss  Instances       Size\n",
      "      14/25         0G      1.368      1.373      1.419         62        640: 100%|██████████| 508/508 [2:04:14<00:00, 14.68s/it]  \n",
      "                 Class     Images  Instances      Box(P          R      mAP50  mAP50-95): 100%|██████████| 34/34 [06:28<00:00, 11.43s/it]\n",
      "                   all       1071       2293      0.779      0.706      0.789      0.502\n",
      "\n",
      "      Epoch    GPU_mem   box_loss   cls_loss   dfl_loss  Instances       Size\n",
      "      15/25         0G      1.352      1.356      1.408         71        640: 100%|██████████| 508/508 [2:02:24<00:00, 14.46s/it]  \n",
      "                 Class     Images  Instances      Box(P          R      mAP50  mAP50-95): 100%|██████████| 34/34 [06:35<00:00, 11.63s/it]\n",
      "                   all       1071       2293      0.801      0.706      0.798      0.514\n",
      "Closing dataloader mosaic\n",
      "\n",
      "      Epoch    GPU_mem   box_loss   cls_loss   dfl_loss  Instances       Size\n",
      "      16/25         0G      1.353      1.266      1.412         49        640: 100%|██████████| 508/508 [2:06:43<00:00, 14.97s/it]  \n",
      "                 Class     Images  Instances      Box(P          R      mAP50  mAP50-95): 100%|██████████| 34/34 [07:25<00:00, 13.11s/it]\n",
      "                   all       1071       2293      0.807      0.698       0.79      0.504\n",
      "\n",
      "      Epoch    GPU_mem   box_loss   cls_loss   dfl_loss  Instances       Size\n",
      "      17/25         0G      1.337      1.229      1.404         42        640: 100%|██████████| 508/508 [2:14:26<00:00, 15.88s/it]  \n",
      "                 Class     Images  Instances      Box(P          R      mAP50  mAP50-95): 100%|██████████| 34/34 [08:44<00:00, 15.44s/it]\n",
      "                   all       1071       2293      0.796        0.7      0.788      0.521\n",
      "\n",
      "      Epoch    GPU_mem   box_loss   cls_loss   dfl_loss  Instances       Size\n",
      "      18/25         0G       1.31      1.185       1.38         31        640: 100%|██████████| 508/508 [2:34:56<00:00, 18.30s/it]  \n",
      "                 Class     Images  Instances      Box(P          R      mAP50  mAP50-95): 100%|██████████| 34/34 [06:28<00:00, 11.44s/it]\n",
      "                   all       1071       2293       0.81      0.734      0.815      0.528\n",
      "\n",
      "      Epoch    GPU_mem   box_loss   cls_loss   dfl_loss  Instances       Size\n",
      "      19/25         0G      1.285      1.159      1.369         29        640: 100%|██████████| 508/508 [2:00:26<00:00, 14.23s/it]  \n",
      "                 Class     Images  Instances      Box(P          R      mAP50  mAP50-95): 100%|██████████| 34/34 [06:27<00:00, 11.41s/it]\n",
      "                   all       1071       2293      0.816      0.726      0.809      0.532\n",
      "\n",
      "      Epoch    GPU_mem   box_loss   cls_loss   dfl_loss  Instances       Size\n",
      "      20/25         0G      1.272      1.138      1.353         37        640: 100%|██████████| 508/508 [1:59:03<00:00, 14.06s/it]\n",
      "                 Class     Images  Instances      Box(P          R      mAP50  mAP50-95): 100%|██████████| 34/34 [06:27<00:00, 11.41s/it]\n",
      "                   all       1071       2293      0.832      0.716      0.813      0.541\n",
      "\n",
      "      Epoch    GPU_mem   box_loss   cls_loss   dfl_loss  Instances       Size\n",
      "      21/25         0G      1.249      1.097      1.332         42        640: 100%|██████████| 508/508 [1:59:03<00:00, 14.06s/it]\n",
      "                 Class     Images  Instances      Box(P          R      mAP50  mAP50-95): 100%|██████████| 34/34 [06:23<00:00, 11.29s/it]\n",
      "                   all       1071       2293      0.845       0.73      0.827      0.547\n",
      "\n",
      "      Epoch    GPU_mem   box_loss   cls_loss   dfl_loss  Instances       Size\n",
      "      22/25         0G      1.224      1.063      1.319         60        640: 100%|██████████| 508/508 [1:59:57<00:00, 14.17s/it]  \n",
      "                 Class     Images  Instances      Box(P          R      mAP50  mAP50-95): 100%|██████████| 34/34 [06:37<00:00, 11.68s/it]\n",
      "                   all       1071       2293      0.833      0.733      0.823      0.554\n",
      "\n",
      "      Epoch    GPU_mem   box_loss   cls_loss   dfl_loss  Instances       Size\n",
      "      23/25         0G      1.199      1.047      1.304         32        640: 100%|██████████| 508/508 [2:03:56<00:00, 14.64s/it]\n",
      "                 Class     Images  Instances      Box(P          R      mAP50  mAP50-95): 100%|██████████| 34/34 [06:43<00:00, 11.87s/it]\n",
      "                   all       1071       2293      0.844      0.733       0.83      0.558\n",
      "\n",
      "      Epoch    GPU_mem   box_loss   cls_loss   dfl_loss  Instances       Size\n",
      "      24/25         0G      1.192      1.022      1.293         27        640: 100%|██████████| 508/508 [2:11:58<00:00, 15.59s/it]  \n",
      "                 Class     Images  Instances      Box(P          R      mAP50  mAP50-95): 100%|██████████| 34/34 [06:47<00:00, 11.98s/it]\n",
      "                   all       1071       2293      0.846      0.729      0.831      0.561\n",
      "\n",
      "      Epoch    GPU_mem   box_loss   cls_loss   dfl_loss  Instances       Size\n",
      "      25/25         0G      1.164     0.9884       1.28         66        640: 100%|██████████| 508/508 [1:53:28<00:00, 13.40s/it]\n",
      "                 Class     Images  Instances      Box(P          R      mAP50  mAP50-95): 100%|██████████| 34/34 [06:26<00:00, 11.37s/it]\n",
      "                   all       1071       2293      0.838      0.751      0.838      0.569\n",
      "\n",
      "20 epochs completed in 43.189 hours.\n",
      "Optimizer stripped from runs\\detect\\train2\\weights\\last.pt, 6.2MB\n",
      "Optimizer stripped from runs\\detect\\train2\\weights\\best.pt, 6.2MB\n",
      "\n",
      "Validating runs\\detect\\train2\\weights\\best.pt...\n",
      "Ultralytics YOLOv8.0.202  Python-3.11.1 torch-2.0.1+cpu CPU (Intel Core(TM) i5-8250U 1.60GHz)\n",
      "Model summary (fused): 168 layers, 3005843 parameters, 0 gradients, 8.1 GFLOPs\n",
      "                 Class     Images  Instances      Box(P          R      mAP50  mAP50-95): 100%|██████████| 34/34 [05:18<00:00,  9.38s/it]\n",
      "                   all       1071       2293      0.839      0.748      0.838      0.569\n",
      "Speed: 3.2ms preprocess, 272.8ms inference, 0.0ms loss, 1.9ms postprocess per image\n",
      "Results saved to \u001b[1mruns\\detect\\train2\u001b[0m\n"
     ]
    }
   ],
   "source": [
    "%cd D:\\Human_Tracker_An_Object_Detection_System_for_Counting_People_Entering_and_Exiting_Room\\datasets\n",
    "from ultralytics import YOLO\n",
    "\n",
    "model = YOLO('datasets\\\\runs\\detect\\\\train2\\weights\\last.pt')\n",
    "\n",
    "results = model.train(resume=True)"
   ]
  },
  {
   "cell_type": "markdown",
   "metadata": {},
   "source": [
    "VALIDATING MODEL USING VALIDATION DATA:"
   ]
  },
  {
   "cell_type": "code",
   "execution_count": 2,
   "metadata": {},
   "outputs": [
    {
     "name": "stdout",
     "output_type": "stream",
     "text": [
      "D:\\Human_Tracker_An_Object_Detection_System_for_Counting_People_Entering_and_Exiting_Room\\datasets\n"
     ]
    },
    {
     "name": "stderr",
     "output_type": "stream",
     "text": [
      "Ultralytics YOLOv8.0.202  Python-3.11.1 torch-2.0.1+cpu CPU (Intel Core(TM) i5-8250U 1.60GHz)\n",
      "Model summary (fused): 168 layers, 3005843 parameters, 0 gradients, 8.1 GFLOPs\n",
      "\u001b[34m\u001b[1mval: \u001b[0mScanning D:\\Project\\datasets4\\valid\\labels.cache... 1071 images, 44 backgrounds, 0 corrupt: 100%|██████████| 1071/1071 [00:00<?, ?it/s]\n",
      "                 Class     Images  Instances      Box(P          R      mAP50  mAP50-95): 100%|██████████| 67/67 [06:56<00:00,  6.21s/it]\n",
      "                   all       1071       2293      0.839      0.748      0.838      0.569\n",
      "Speed: 3.8ms preprocess, 350.0ms inference, 0.0ms loss, 2.2ms postprocess per image\n",
      "Results saved to \u001b[1mruns\\detect\\val\u001b[0m\n"
     ]
    }
   ],
   "source": [
    "%cd D:\\Human_Tracker_An_Object_Detection_System_for_Counting_People_Entering_and_Exiting_Room\\datasets\n",
    "\n",
    "from ultralytics import YOLO\n",
    "\n",
    "# Load a model\n",
    "model = YOLO('runs\\detect\\\\train2\\weights\\\\best.pt')\n",
    "\n",
    "# Validate the model\n",
    "metrics = model.val()  # no arguments needed, dataset and settings remembered"
   ]
  },
  {
   "cell_type": "markdown",
   "metadata": {},
   "source": [
    "VALIDATING MODEL USING THE TEST DATA:"
   ]
  },
  {
   "cell_type": "code",
   "execution_count": 4,
   "metadata": {},
   "outputs": [
    {
     "name": "stdout",
     "output_type": "stream",
     "text": [
      "D:\\Human_Tracker_An_Object_Detection_System_for_Counting_People_Entering_and_Exiting_Room\\datasets\n"
     ]
    },
    {
     "name": "stderr",
     "output_type": "stream",
     "text": [
      "Ultralytics YOLOv8.0.202  Python-3.11.1 torch-2.0.1+cpu CPU (Intel Core(TM) i5-8250U 1.60GHz)\n",
      "Model summary (fused): 168 layers, 3005843 parameters, 0 gradients, 8.1 GFLOPs\n",
      "\n",
      "\u001b[34m\u001b[1mval: \u001b[0mScanning D:\\Human_Tracker_An_Object_Detection_System_for_Counting_People_Entering_and_Exiting_Room\\datasets\\test\\labels...:   0%|          | 0/505 [00:00<?, ?it/s]\n",
      "\u001b[34m\u001b[1mval: \u001b[0mScanning D:\\Human_Tracker_An_Object_Detection_System_for_Counting_People_Entering_and_Exiting_Room\\datasets\\test\\labels... 1 images, 0 backgrounds, 0 corrupt:   0%|          | 1/505 [00:00<02:25,  3.45it/s]\n",
      "\u001b[34m\u001b[1mval: \u001b[0mScanning D:\\Human_Tracker_An_Object_Detection_System_for_Counting_People_Entering_and_Exiting_Room\\datasets\\test\\labels... 8 images, 0 backgrounds, 0 corrupt:   2%|▏         | 8/505 [00:00<00:21, 23.20it/s]\n",
      "\u001b[34m\u001b[1mval: \u001b[0mScanning D:\\Human_Tracker_An_Object_Detection_System_for_Counting_People_Entering_and_Exiting_Room\\datasets\\test\\labels... 13 images, 0 backgrounds, 0 corrupt:   3%|▎         | 13/505 [00:00<00:26, 18.88it/s]\n",
      "\u001b[34m\u001b[1mval: \u001b[0mScanning D:\\Human_Tracker_An_Object_Detection_System_for_Counting_People_Entering_and_Exiting_Room\\datasets\\test\\labels... 36 images, 0 backgrounds, 0 corrupt:   7%|▋         | 36/505 [00:00<00:07, 61.95it/s]\n",
      "\u001b[34m\u001b[1mval: \u001b[0mScanning D:\\Human_Tracker_An_Object_Detection_System_for_Counting_People_Entering_and_Exiting_Room\\datasets\\test\\labels... 47 images, 0 backgrounds, 0 corrupt:   9%|▉         | 47/505 [00:01<00:08, 56.89it/s]\n",
      "\u001b[34m\u001b[1mval: \u001b[0mScanning D:\\Human_Tracker_An_Object_Detection_System_for_Counting_People_Entering_and_Exiting_Room\\datasets\\test\\labels... 59 images, 0 backgrounds, 0 corrupt:  12%|█▏        | 59/505 [00:01<00:07, 63.25it/s]\n",
      "\u001b[34m\u001b[1mval: \u001b[0mScanning D:\\Human_Tracker_An_Object_Detection_System_for_Counting_People_Entering_and_Exiting_Room\\datasets\\test\\labels... 69 images, 0 backgrounds, 0 corrupt:  14%|█▎        | 69/505 [00:01<00:06, 68.64it/s]\n",
      "\u001b[34m\u001b[1mval: \u001b[0mScanning D:\\Human_Tracker_An_Object_Detection_System_for_Counting_People_Entering_and_Exiting_Room\\datasets\\test\\labels... 78 images, 0 backgrounds, 0 corrupt:  15%|█▌        | 78/505 [00:01<00:07, 59.78it/s]\n",
      "\u001b[34m\u001b[1mval: \u001b[0mScanning D:\\Human_Tracker_An_Object_Detection_System_for_Counting_People_Entering_and_Exiting_Room\\datasets\\test\\labels... 92 images, 0 backgrounds, 0 corrupt:  18%|█▊        | 92/505 [00:01<00:06, 68.45it/s]\n",
      "\u001b[34m\u001b[1mval: \u001b[0mScanning D:\\Human_Tracker_An_Object_Detection_System_for_Counting_People_Entering_and_Exiting_Room\\datasets\\test\\labels... 103 images, 0 backgrounds, 0 corrupt:  20%|██        | 103/505 [00:01<00:05, 75.49it/s]\n",
      "\u001b[34m\u001b[1mval: \u001b[0mScanning D:\\Human_Tracker_An_Object_Detection_System_for_Counting_People_Entering_and_Exiting_Room\\datasets\\test\\labels... 112 images, 0 backgrounds, 0 corrupt:  22%|██▏       | 112/505 [00:01<00:05, 70.85it/s]\n",
      "\u001b[34m\u001b[1mval: \u001b[0mScanning D:\\Human_Tracker_An_Object_Detection_System_for_Counting_People_Entering_and_Exiting_Room\\datasets\\test\\labels... 124 images, 0 backgrounds, 0 corrupt:  25%|██▍       | 124/505 [00:02<00:04, 79.12it/s]\n",
      "\u001b[34m\u001b[1mval: \u001b[0mScanning D:\\Human_Tracker_An_Object_Detection_System_for_Counting_People_Entering_and_Exiting_Room\\datasets\\test\\labels... 139 images, 0 backgrounds, 0 corrupt:  28%|██▊       | 139/505 [00:02<00:04, 91.48it/s]\n",
      "\u001b[34m\u001b[1mval: \u001b[0mScanning D:\\Human_Tracker_An_Object_Detection_System_for_Counting_People_Entering_and_Exiting_Room\\datasets\\test\\labels... 150 images, 1 backgrounds, 0 corrupt:  30%|██▉       | 150/505 [00:02<00:04, 88.65it/s]\n",
      "\u001b[34m\u001b[1mval: \u001b[0mScanning D:\\Human_Tracker_An_Object_Detection_System_for_Counting_People_Entering_and_Exiting_Room\\datasets\\test\\labels... 167 images, 3 backgrounds, 0 corrupt:  33%|███▎      | 167/505 [00:02<00:03, 101.11it/s]\n",
      "\u001b[34m\u001b[1mval: \u001b[0mScanning D:\\Human_Tracker_An_Object_Detection_System_for_Counting_People_Entering_and_Exiting_Room\\datasets\\test\\labels... 181 images, 8 backgrounds, 0 corrupt:  36%|███▌      | 181/505 [00:02<00:02, 110.53it/s]\n",
      "\u001b[34m\u001b[1mval: \u001b[0mScanning D:\\Human_Tracker_An_Object_Detection_System_for_Counting_People_Entering_and_Exiting_Room\\datasets\\test\\labels... 198 images, 9 backgrounds, 0 corrupt:  39%|███▉      | 198/505 [00:02<00:02, 121.15it/s]\n",
      "\u001b[34m\u001b[1mval: \u001b[0mScanning D:\\Human_Tracker_An_Object_Detection_System_for_Counting_People_Entering_and_Exiting_Room\\datasets\\test\\labels... 211 images, 10 backgrounds, 0 corrupt:  42%|████▏     | 211/505 [00:02<00:02, 119.84it/s]\n",
      "\u001b[34m\u001b[1mval: \u001b[0mScanning D:\\Human_Tracker_An_Object_Detection_System_for_Counting_People_Entering_and_Exiting_Room\\datasets\\test\\labels... 224 images, 15 backgrounds, 0 corrupt:  44%|████▍     | 224/505 [00:02<00:02, 110.06it/s]\n",
      "\u001b[34m\u001b[1mval: \u001b[0mScanning D:\\Human_Tracker_An_Object_Detection_System_for_Counting_People_Entering_and_Exiting_Room\\datasets\\test\\labels... 236 images, 17 backgrounds, 0 corrupt:  47%|████▋     | 236/505 [00:03<00:02, 102.23it/s]\n",
      "\u001b[34m\u001b[1mval: \u001b[0mScanning D:\\Human_Tracker_An_Object_Detection_System_for_Counting_People_Entering_and_Exiting_Room\\datasets\\test\\labels... 253 images, 23 backgrounds, 0 corrupt:  50%|█████     | 253/505 [00:03<00:02, 107.44it/s]\n",
      "\u001b[34m\u001b[1mval: \u001b[0mScanning D:\\Human_Tracker_An_Object_Detection_System_for_Counting_People_Entering_and_Exiting_Room\\datasets\\test\\labels... 267 images, 24 backgrounds, 0 corrupt:  53%|█████▎    | 267/505 [00:03<00:02, 108.18it/s]\n",
      "\u001b[34m\u001b[1mval: \u001b[0mScanning D:\\Human_Tracker_An_Object_Detection_System_for_Counting_People_Entering_and_Exiting_Room\\datasets\\test\\labels... 278 images, 26 backgrounds, 0 corrupt:  55%|█████▌    | 278/505 [00:03<00:02, 106.73it/s]\n",
      "\u001b[34m\u001b[1mval: \u001b[0mScanning D:\\Human_Tracker_An_Object_Detection_System_for_Counting_People_Entering_and_Exiting_Room\\datasets\\test\\labels... 292 images, 29 backgrounds, 0 corrupt:  58%|█████▊    | 292/505 [00:03<00:01, 115.17it/s]\n",
      "\u001b[34m\u001b[1mval: \u001b[0mScanning D:\\Human_Tracker_An_Object_Detection_System_for_Counting_People_Entering_and_Exiting_Room\\datasets\\test\\labels... 304 images, 31 backgrounds, 0 corrupt:  60%|██████    | 304/505 [00:03<00:01, 111.49it/s]\n",
      "\u001b[34m\u001b[1mval: \u001b[0mScanning D:\\Human_Tracker_An_Object_Detection_System_for_Counting_People_Entering_and_Exiting_Room\\datasets\\test\\labels... 319 images, 32 backgrounds, 0 corrupt:  63%|██████▎   | 319/505 [00:03<00:01, 112.00it/s]\n",
      "\u001b[34m\u001b[1mval: \u001b[0mScanning D:\\Human_Tracker_An_Object_Detection_System_for_Counting_People_Entering_and_Exiting_Room\\datasets\\test\\labels... 333 images, 32 backgrounds, 0 corrupt:  66%|██████▌   | 333/505 [00:03<00:01, 100.61it/s]\n",
      "\u001b[34m\u001b[1mval: \u001b[0mScanning D:\\Human_Tracker_An_Object_Detection_System_for_Counting_People_Entering_and_Exiting_Room\\datasets\\test\\labels... 344 images, 33 backgrounds, 0 corrupt:  68%|██████▊   | 344/505 [00:04<00:01, 101.87it/s]\n",
      "\u001b[34m\u001b[1mval: \u001b[0mScanning D:\\Human_Tracker_An_Object_Detection_System_for_Counting_People_Entering_and_Exiting_Room\\datasets\\test\\labels... 355 images, 33 backgrounds, 0 corrupt:  70%|███████   | 355/505 [00:04<00:01, 98.64it/s] \n",
      "\u001b[34m\u001b[1mval: \u001b[0mScanning D:\\Human_Tracker_An_Object_Detection_System_for_Counting_People_Entering_and_Exiting_Room\\datasets\\test\\labels... 370 images, 33 backgrounds, 0 corrupt:  73%|███████▎  | 370/505 [00:04<00:01, 95.72it/s]\n",
      "\u001b[34m\u001b[1mval: \u001b[0mScanning D:\\Human_Tracker_An_Object_Detection_System_for_Counting_People_Entering_and_Exiting_Room\\datasets\\test\\labels... 384 images, 33 backgrounds, 0 corrupt:  76%|███████▌  | 384/505 [00:04<00:01, 97.65it/s]\n",
      "\u001b[34m\u001b[1mval: \u001b[0mScanning D:\\Human_Tracker_An_Object_Detection_System_for_Counting_People_Entering_and_Exiting_Room\\datasets\\test\\labels... 400 images, 33 backgrounds, 0 corrupt:  79%|███████▉  | 400/505 [00:04<00:00, 107.57it/s]\n",
      "\u001b[34m\u001b[1mval: \u001b[0mScanning D:\\Human_Tracker_An_Object_Detection_System_for_Counting_People_Entering_and_Exiting_Room\\datasets\\test\\labels... 411 images, 33 backgrounds, 0 corrupt:  81%|████████▏ | 411/505 [00:04<00:00, 107.44it/s]\n",
      "\u001b[34m\u001b[1mval: \u001b[0mScanning D:\\Human_Tracker_An_Object_Detection_System_for_Counting_People_Entering_and_Exiting_Room\\datasets\\test\\labels... 422 images, 33 backgrounds, 0 corrupt:  84%|████████▎ | 422/505 [00:04<00:00, 105.46it/s]\n",
      "\u001b[34m\u001b[1mval: \u001b[0mScanning D:\\Human_Tracker_An_Object_Detection_System_for_Counting_People_Entering_and_Exiting_Room\\datasets\\test\\labels... 433 images, 33 backgrounds, 0 corrupt:  86%|████████▌ | 433/505 [00:04<00:00, 96.75it/s] \n",
      "\u001b[34m\u001b[1mval: \u001b[0mScanning D:\\Human_Tracker_An_Object_Detection_System_for_Counting_People_Entering_and_Exiting_Room\\datasets\\test\\labels... 451 images, 33 backgrounds, 0 corrupt:  89%|████████▉ | 451/505 [00:05<00:00, 108.81it/s]\n",
      "\u001b[34m\u001b[1mval: \u001b[0mScanning D:\\Human_Tracker_An_Object_Detection_System_for_Counting_People_Entering_and_Exiting_Room\\datasets\\test\\labels... 462 images, 33 backgrounds, 0 corrupt:  91%|█████████▏| 462/505 [00:05<00:00, 105.26it/s]\n",
      "\u001b[34m\u001b[1mval: \u001b[0mScanning D:\\Human_Tracker_An_Object_Detection_System_for_Counting_People_Entering_and_Exiting_Room\\datasets\\test\\labels... 474 images, 33 backgrounds, 0 corrupt:  94%|█████████▍| 474/505 [00:05<00:00, 105.56it/s]\n",
      "\u001b[34m\u001b[1mval: \u001b[0mScanning D:\\Human_Tracker_An_Object_Detection_System_for_Counting_People_Entering_and_Exiting_Room\\datasets\\test\\labels... 485 images, 33 backgrounds, 0 corrupt:  96%|█████████▌| 485/505 [00:05<00:00, 95.37it/s] \n",
      "\u001b[34m\u001b[1mval: \u001b[0mScanning D:\\Human_Tracker_An_Object_Detection_System_for_Counting_People_Entering_and_Exiting_Room\\datasets\\test\\labels... 496 images, 33 backgrounds, 0 corrupt:  98%|█████████▊| 496/505 [00:05<00:00, 88.19it/s]\n",
      "\u001b[34m\u001b[1mval: \u001b[0mScanning D:\\Human_Tracker_An_Object_Detection_System_for_Counting_People_Entering_and_Exiting_Room\\datasets\\test\\labels... 505 images, 34 backgrounds, 0 corrupt: 100%|██████████| 505/505 [00:05<00:00, 89.27it/s]\n",
      "\u001b[34m\u001b[1mval: \u001b[0mNew cache created: D:\\Human_Tracker_An_Object_Detection_System_for_Counting_People_Entering_and_Exiting_Room\\datasets\\test\\labels.cache\n",
      "WARNING  Box and segment counts should be equal, but got len(segments) = 506, len(boxes) = 1439. To resolve this only boxes will be used and all segments will be removed. To avoid this please supply either a detect or segment dataset, not a detect-segment mixed dataset.\n",
      "\n",
      "                 Class     Images  Instances      Box(P          R      mAP50  mAP50-95):   0%|          | 0/32 [00:00<?, ?it/s]\n",
      "                 Class     Images  Instances      Box(P          R      mAP50  mAP50-95):   3%|▎         | 1/32 [00:09<04:52,  9.43s/it]\n",
      "                 Class     Images  Instances      Box(P          R      mAP50  mAP50-95):   6%|▋         | 2/32 [00:17<04:17,  8.58s/it]\n",
      "                 Class     Images  Instances      Box(P          R      mAP50  mAP50-95):   9%|▉         | 3/32 [00:25<04:00,  8.28s/it]\n",
      "                 Class     Images  Instances      Box(P          R      mAP50  mAP50-95):  12%|█▎        | 4/32 [00:31<03:30,  7.50s/it]\n",
      "                 Class     Images  Instances      Box(P          R      mAP50  mAP50-95):  16%|█▌        | 5/32 [00:37<03:05,  6.88s/it]\n",
      "                 Class     Images  Instances      Box(P          R      mAP50  mAP50-95):  19%|█▉        | 6/32 [00:43<02:49,  6.52s/it]\n",
      "                 Class     Images  Instances      Box(P          R      mAP50  mAP50-95):  22%|██▏       | 7/32 [00:48<02:36,  6.27s/it]\n",
      "                 Class     Images  Instances      Box(P          R      mAP50  mAP50-95):  25%|██▌       | 8/32 [00:54<02:25,  6.06s/it]\n",
      "                 Class     Images  Instances      Box(P          R      mAP50  mAP50-95):  28%|██▊       | 9/32 [01:00<02:16,  5.94s/it]\n",
      "                 Class     Images  Instances      Box(P          R      mAP50  mAP50-95):  31%|███▏      | 10/32 [01:05<02:07,  5.81s/it]\n",
      "                 Class     Images  Instances      Box(P          R      mAP50  mAP50-95):  34%|███▍      | 11/32 [01:11<02:01,  5.77s/it]\n",
      "                 Class     Images  Instances      Box(P          R      mAP50  mAP50-95):  38%|███▊      | 12/32 [01:17<01:54,  5.72s/it]\n",
      "                 Class     Images  Instances      Box(P          R      mAP50  mAP50-95):  41%|████      | 13/32 [01:22<01:48,  5.69s/it]\n",
      "                 Class     Images  Instances      Box(P          R      mAP50  mAP50-95):  44%|████▍     | 14/32 [01:28<01:42,  5.70s/it]\n",
      "                 Class     Images  Instances      Box(P          R      mAP50  mAP50-95):  47%|████▋     | 15/32 [01:34<01:36,  5.69s/it]\n",
      "                 Class     Images  Instances      Box(P          R      mAP50  mAP50-95):  50%|█████     | 16/32 [01:39<01:30,  5.68s/it]\n",
      "                 Class     Images  Instances      Box(P          R      mAP50  mAP50-95):  53%|█████▎    | 17/32 [01:45<01:26,  5.76s/it]\n",
      "                 Class     Images  Instances      Box(P          R      mAP50  mAP50-95):  56%|█████▋    | 18/32 [01:51<01:21,  5.83s/it]\n",
      "                 Class     Images  Instances      Box(P          R      mAP50  mAP50-95):  59%|█████▉    | 19/32 [01:57<01:16,  5.89s/it]\n",
      "                 Class     Images  Instances      Box(P          R      mAP50  mAP50-95):  62%|██████▎   | 20/32 [02:04<01:13,  6.11s/it]\n",
      "                 Class     Images  Instances      Box(P          R      mAP50  mAP50-95):  66%|██████▌   | 21/32 [02:10<01:08,  6.23s/it]\n",
      "                 Class     Images  Instances      Box(P          R      mAP50  mAP50-95):  69%|██████▉   | 22/32 [02:16<01:01,  6.18s/it]\n",
      "                 Class     Images  Instances      Box(P          R      mAP50  mAP50-95):  72%|███████▏  | 23/32 [02:23<00:57,  6.34s/it]\n",
      "                 Class     Images  Instances      Box(P          R      mAP50  mAP50-95):  75%|███████▌  | 24/32 [02:30<00:51,  6.45s/it]\n",
      "                 Class     Images  Instances      Box(P          R      mAP50  mAP50-95):  78%|███████▊  | 25/32 [02:38<00:48,  6.95s/it]\n",
      "                 Class     Images  Instances      Box(P          R      mAP50  mAP50-95):  81%|████████▏ | 26/32 [02:48<00:46,  7.78s/it]\n",
      "                 Class     Images  Instances      Box(P          R      mAP50  mAP50-95):  84%|████████▍ | 27/32 [02:55<00:38,  7.74s/it]\n",
      "                 Class     Images  Instances      Box(P          R      mAP50  mAP50-95):  88%|████████▊ | 28/32 [03:02<00:29,  7.41s/it]\n",
      "                 Class     Images  Instances      Box(P          R      mAP50  mAP50-95):  91%|█████████ | 29/32 [03:10<00:22,  7.50s/it]\n",
      "                 Class     Images  Instances      Box(P          R      mAP50  mAP50-95):  94%|█████████▍| 30/32 [03:17<00:14,  7.35s/it]\n",
      "                 Class     Images  Instances      Box(P          R      mAP50  mAP50-95):  97%|█████████▋| 31/32 [03:24<00:07,  7.22s/it]\n",
      "                 Class     Images  Instances      Box(P          R      mAP50  mAP50-95): 100%|██████████| 32/32 [03:29<00:00,  6.56s/it]\n",
      "                 Class     Images  Instances      Box(P          R      mAP50  mAP50-95): 100%|██████████| 32/32 [03:29<00:00,  6.54s/it]\n",
      "                   all        505       1439      0.788      0.644      0.731       0.47\n",
      "Speed: 4.4ms preprocess, 367.7ms inference, 0.0ms loss, 3.6ms postprocess per image\n",
      "Results saved to \u001b[1mruns\\detect\\val2\u001b[0m\n",
      " Learn more at https://docs.ultralytics.com/modes/val\n"
     ]
    }
   ],
   "source": [
    "%cd D:\\Human_Tracker_An_Object_Detection_System_for_Counting_People_Entering_and_Exiting_Room\\datasets\n",
    "\n",
    "!yolo val model=D:\\Human_Tracker_An_Object_Detection_System_for_Counting_People_Entering_and_Exiting_Room\\datasets\\runs\\detect\\train2\\weights\\best.pt data=D:\\Human_Tracker_An_Object_Detection_System_for_Counting_People_Entering_and_Exiting_Room\\datasets\\data.yaml split=test"
   ]
  },
  {
   "cell_type": "markdown",
   "metadata": {},
   "source": [
    "TESTING MODEL:"
   ]
  },
  {
   "cell_type": "code",
   "execution_count": 6,
   "metadata": {},
   "outputs": [
    {
     "name": "stdout",
     "output_type": "stream",
     "text": [
      "D:\\Human_Tracker_An_Object_Detection_System_for_Counting_People_Entering_and_Exiting_Room\\datasets\n"
     ]
    },
    {
     "name": "stderr",
     "output_type": "stream",
     "text": [
      "Ultralytics YOLOv8.0.202  Python-3.11.1 torch-2.0.1+cpu CPU (Intel Core(TM) i5-8250U 1.60GHz)\n",
      "Model summary (fused): 168 layers, 3005843 parameters, 0 gradients, 8.1 GFLOPs\n",
      "\n",
      "image 1/1 D:\\Human_Tracker_An_Object_Detection_System_for_Counting_People_Entering_and_Exiting_Room\\test_image.jpg: 384x640 1 Persona, 366.1ms\n",
      "Speed: 10.2ms preprocess, 366.1ms inference, 0.0ms postprocess per image at shape (1, 3, 384, 640)\n",
      "Results saved to \u001b[1mruns\\detect\\predict\u001b[0m\n",
      " Learn more at https://docs.ultralytics.com/modes/predict\n"
     ]
    }
   ],
   "source": [
    "%cd D:\\Human_Tracker_An_Object_Detection_System_for_Counting_People_Entering_and_Exiting_Room\\datasets\n",
    "!yolo task=detect mode=predict model=D:\\Human_Tracker_An_Object_Detection_System_for_Counting_People_Entering_and_Exiting_Room\\datasets\\runs\\detect\\train2\\weights\\best.pt conf=0.5 source=https://github.com/J1nWo0/Human-Tracker-Counting/blob/ec1021a38150e585e625dc76b75769952b5c1b98/Sample%20Test%20File/test_image.jpg"
   ]
  }
 ],
 "metadata": {
  "kernelspec": {
   "display_name": "Python 3",
   "language": "python",
   "name": "python3"
  },
  "language_info": {
   "codemirror_mode": {
    "name": "ipython",
    "version": 3
   },
   "file_extension": ".py",
   "mimetype": "text/x-python",
   "name": "python",
   "nbconvert_exporter": "python",
   "pygments_lexer": "ipython3",
   "version": "3.11.1"
  },
  "orig_nbformat": 4
 },
 "nbformat": 4,
 "nbformat_minor": 2
}
