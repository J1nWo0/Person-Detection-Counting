{
 "cells": [
  {
   "cell_type": "code",
   "execution_count": 1,
   "metadata": {},
   "outputs": [
    {
     "name": "stderr",
     "output_type": "stream",
     "text": [
      "\n",
      "0: 480x640 (no detections), 1534.1ms\n",
      "Speed: 207.5ms preprocess, 1534.1ms inference, 41.9ms postprocess per image at shape (1, 3, 480, 640)\n",
      "\n",
      "0: 480x640 1 Persona, 477.4ms\n",
      "Speed: 10.2ms preprocess, 477.4ms inference, 49.4ms postprocess per image at shape (1, 3, 480, 640)\n",
      "\n",
      "0: 480x640 1 Persona, 293.2ms\n",
      "Speed: 6.0ms preprocess, 293.2ms inference, 0.0ms postprocess per image at shape (1, 3, 480, 640)\n",
      "\n",
      "0: 480x640 1 Persona, 283.0ms\n",
      "Speed: 0.0ms preprocess, 283.0ms inference, 15.6ms postprocess per image at shape (1, 3, 480, 640)\n",
      "\n",
      "0: 480x640 1 Persona, 277.0ms\n",
      "Speed: 3.1ms preprocess, 277.0ms inference, 15.6ms postprocess per image at shape (1, 3, 480, 640)\n",
      "\n",
      "0: 480x640 1 Persona, 289.9ms\n",
      "Speed: 7.6ms preprocess, 289.9ms inference, 0.0ms postprocess per image at shape (1, 3, 480, 640)\n",
      "\n",
      "0: 480x640 1 Persona, 321.9ms\n",
      "Speed: 5.0ms preprocess, 321.9ms inference, 0.0ms postprocess per image at shape (1, 3, 480, 640)\n",
      "\n",
      "0: 480x640 1 Persona, 290.3ms\n",
      "Speed: 5.0ms preprocess, 290.3ms inference, 0.0ms postprocess per image at shape (1, 3, 480, 640)\n",
      "\n",
      "0: 480x640 1 Persona, 291.2ms\n",
      "Speed: 5.5ms preprocess, 291.2ms inference, 8.0ms postprocess per image at shape (1, 3, 480, 640)\n"
     ]
    }
   ],
   "source": [
    "import cv2\n",
    "from ultralytics import YOLO\n",
    "\n",
    "\n",
    "class Algorithm_Detection:\n",
    "    def detectPeople(self):\n",
    "\n",
    "        model=YOLO('datasets\\\\weights\\\\best.pt')\n",
    "\n",
    "        # start webcam\n",
    "        cap = cv2.VideoCapture(0)\n",
    "        cap.set(3, 640)\n",
    "        cap.set(4, 480)\n",
    "\n",
    "        while True:\n",
    "            ret, frame = cap.read()\n",
    "            if ret:\n",
    "                results = model.track(frame, persist=True, conf=0.5)\n",
    "\n",
    "                frame_ = results[0].plot()\n",
    "\n",
    "                cv2.imshow('Frame', frame_)\n",
    "                if cv2.waitKey(int(25/3)) & 0xFF == ord('q'):\n",
    "                    break\n",
    "            else: break\n",
    "\n",
    "        cap.release()\n",
    "        cv2.destroyAllWindows()\n",
    "\n",
    "\n",
    "algo = Algorithm_Detection()\n",
    "algo.detectPeople()"
   ]
  }
 ],
 "metadata": {
  "kernelspec": {
   "display_name": "Python 3",
   "language": "python",
   "name": "python3"
  },
  "language_info": {
   "codemirror_mode": {
    "name": "ipython",
    "version": 3
   },
   "file_extension": ".py",
   "mimetype": "text/x-python",
   "name": "python",
   "nbconvert_exporter": "python",
   "pygments_lexer": "ipython3",
   "version": "3.11.1"
  }
 },
 "nbformat": 4,
 "nbformat_minor": 2
}
